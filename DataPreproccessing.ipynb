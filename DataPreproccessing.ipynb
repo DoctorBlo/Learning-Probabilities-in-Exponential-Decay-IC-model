{
 "cells": [
  {
   "cell_type": "code",
   "execution_count": 1,
   "metadata": {
    "collapsed": true
   },
   "outputs": [],
   "source": [
    "file = open(\"Retweet_Content.txt\", \"r\") \n",
    "lines = file.readlines()"
   ]
  },
  {
   "cell_type": "code",
   "execution_count": 2,
   "metadata": {
    "collapsed": false
   },
   "outputs": [],
   "source": [
    "data_tweets = []\n",
    "data_retweets = []\n",
    "i = 0\n",
    "while i < len(lines):\n",
    "    if (\"2011-\" or \"2012-\") and (\":\" in lines[i]) and (lines[i].count('\\t') == 3):\n",
    "        original_row = lines[i].split()\n",
    "        orig_id = int(original_row[0])\n",
    "        data_tweets.append(original_row)\n",
    "        i = i+1\n",
    "        j = int(lines[i].split()[0])\n",
    "        i = i+1\n",
    "        while j > 0:\n",
    "            if (\"2011-\" or \"2012-\") and (\":\" in lines[i]) and (lines[i].count('\\t')) == 2:\n",
    "                row = lines[i].split()\n",
    "                row.append(orig_id)\n",
    "                data_retweets.append(row)\n",
    "                j = j-1\n",
    "            i = i+1   \n",
    "    else:\n",
    "         i=i+1       "
   ]
  },
  {
   "cell_type": "code",
   "execution_count": 4,
   "metadata": {
    "collapsed": false
   },
   "outputs": [],
   "source": [
    "import pandas as pd\n",
    "data_retweets = pd.DataFrame(data_retweets)\n",
    "data_retweets = data_retweets.rename(columns={0:\"user_id\", 1:\"time\", 2:\"retweet_id\" ,3:\"orig_id\"})\n",
    "data_tweets = pd.DataFrame(data_tweets)\n",
    "data_tweets = data_tweets.rename(columns={0:\"orig_id\", 1:\"user_id\", 2:\"time\" ,3:\"num\"})\n",
    "retweets = pd.DataFrame()\n",
    "retweets[\"user_id\"] = data_retweets.user_id\n",
    "retweets[\"tweet_id\"] = data_retweets.orig_id\n",
    "retweets[\"time\"] = data_retweets.time\n",
    "\n",
    "tweets = pd.DataFrame()\n",
    "tweets[\"user_id\"] = data_tweets.user_id\n",
    "tweets[\"tweet_id\"] = data_tweets.orig_id\n",
    "tweets[\"time\"] = data_tweets.time"
   ]
  },
  {
   "cell_type": "code",
   "execution_count": 5,
   "metadata": {
    "collapsed": true
   },
   "outputs": [],
   "source": [
    "retweets.user_id = retweets.user_id.astype(int)\n",
    "retweets.tweet_id = retweets.user_id.astype(int)\n",
    "tweets.user_id = tweets.user_id.astype(int)\n",
    "tweets.tweet_id = tweets.tweet_id.astype(int)"
   ]
  },
  {
   "cell_type": "code",
   "execution_count": 7,
   "metadata": {
    "collapsed": true
   },
   "outputs": [],
   "source": [
    "retweets[\"tweet_id\"] = data_retweets.orig_id"
   ]
  },
  {
   "cell_type": "code",
   "execution_count": null,
   "metadata": {
    "collapsed": false
   },
   "outputs": [],
   "source": [
    "retweets.time = pd.to_datetime(retweets.time)"
   ]
  },
  {
   "cell_type": "code",
   "execution_count": null,
   "metadata": {
    "collapsed": true
   },
   "outputs": [],
   "source": [
    "tweets.time = pd.to_datetime(tweets.time)"
   ]
  },
  {
   "cell_type": "code",
   "execution_count": null,
   "metadata": {
    "collapsed": false
   },
   "outputs": [],
   "source": [
    "all_tweets = tweets.tweet_id"
   ]
  },
  {
   "cell_type": "code",
   "execution_count": null,
   "metadata": {
    "collapsed": false
   },
   "outputs": [],
   "source": [
    "tweets_collection = {} \n",
    "for tweet in all_tweets:\n",
    "    tweets_collection[tweet] = retweets[retweets.tweet_id == tweet]\n"
   ]
  },
  {
   "cell_type": "code",
   "execution_count": null,
   "metadata": {
    "collapsed": true
   },
   "outputs": [],
   "source": []
  }
 ],
 "metadata": {
  "kernelspec": {
   "display_name": "Python 2",
   "language": "python",
   "name": "python2"
  },
  "language_info": {
   "codemirror_mode": {
    "name": "ipython",
    "version": 2
   },
   "file_extension": ".py",
   "mimetype": "text/x-python",
   "name": "python",
   "nbconvert_exporter": "python",
   "pygments_lexer": "ipython2",
   "version": "2.7.13"
  }
 },
 "nbformat": 4,
 "nbformat_minor": 2
}
