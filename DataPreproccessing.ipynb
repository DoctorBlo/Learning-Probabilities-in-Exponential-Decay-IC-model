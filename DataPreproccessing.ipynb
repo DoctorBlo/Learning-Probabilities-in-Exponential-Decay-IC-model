{
 "cells": [
  {
   "cell_type": "code",
   "execution_count": 1,
   "metadata": {
    "collapsed": true
   },
   "outputs": [],
   "source": [
    "file = open(\"Retweet_Content.txt\", \"r\") \n",
    "lines = file.readlines()"
   ]
  },
  {
   "cell_type": "code",
   "execution_count": 2,
   "metadata": {
    "collapsed": false
   },
   "outputs": [
    {
     "name": "stdout",
     "output_type": "stream",
     "text": [
      "1658632745\t2012-07-08-00:16:30\t3465310172271452\r\n",
      "\n"
     ]
    }
   ],
   "source": [
    "print lines[5]"
   ]
  },
  {
   "cell_type": "code",
   "execution_count": 3,
   "metadata": {
    "collapsed": false
   },
   "outputs": [],
   "source": [
    "data_tweets = []\n",
    "data_retweets = []\n",
    "i = 0\n",
    "while i < len(lines):\n",
    "    if (\"2011-\" in lines[i]  or \"2012-\" in lines[i]) and (\":\" in lines[i]) and (lines[i].count('\\t') == 3):\n",
    "        original_row = lines[i].split()\n",
    "        orig_id = int(original_row[0])\n",
    "        data_tweets.append(original_row)\n",
    "        i = i+1\n",
    "        j = int(lines[i].split()[0])\n",
    "        i = i+1\n",
    "        while j > 0:\n",
    "            if (\"2011-\" in lines[i]  or \"2012-\" in lines[i]) and (\":\" in lines[i]) and (lines[i].count('\\t')) == 2:\n",
    "                row = lines[i].split()\n",
    "                row.append(orig_id)\n",
    "                data_retweets.append(row)\n",
    "                j = j-1\n",
    "            i = i+1   \n",
    "    else:\n",
    "         i=i+1       "
   ]
  },
  {
   "cell_type": "code",
   "execution_count": 5,
   "metadata": {
    "collapsed": true
   },
   "outputs": [],
   "source": [
    "import csv\n",
    "\n",
    "with open(\"original_twitts.csv\",'wb') as resultFile:\n",
    "    wr = csv.writer(resultFile)\n",
    "    wr.writerows(data_tweets)"
   ]
  },
  {
   "cell_type": "code",
   "execution_count": 6,
   "metadata": {
    "collapsed": true
   },
   "outputs": [],
   "source": [
    "with open(\"original_retwitts.csv\",'wb') as resultFile:\n",
    "    wr = csv.writer(resultFile)\n",
    "    wr.writerows(data_retweets)"
   ]
  },
  {
   "cell_type": "code",
   "execution_count": 11,
   "metadata": {
    "collapsed": false
   },
   "outputs": [],
   "source": [
    "file_2 = open(\"weibo_network.txt\", \"r\") \n",
    "lines_2 = file_2.readlines()"
   ]
  },
  {
   "cell_type": "code",
   "execution_count": 14,
   "metadata": {
    "collapsed": true
   },
   "outputs": [],
   "source": [
    "mapping = open(\"uidlist.txt\", \"r\") \n",
    "map_id = mapping.readlines()\n",
    "\n",
    "map_list = []\n",
    "for line in map_id:\n",
    "    map_list.append(int(line.split()[0]))\n",
    "\n",
    "map_list_reverse = {}\n",
    "j = 0\n",
    "for i in map_list:\n",
    "    map_list_reverse[i] = j\n",
    "    j = j + 1\n",
    "\n",
    "tweets[\"num\"] = data_tweets.num\n",
    "tweets.num = tweets.num.astype(int)\n",
    "tweets = tweets.sort_values(by = [\"num\"], ascending=False)\n",
    "small_tweets = tweets[:10]"
   ]
  },
  {
   "cell_type": "code",
   "execution_count": 15,
   "metadata": {
    "collapsed": true
   },
   "outputs": [],
   "source": [
    "small_tweets_ids = small_tweets.tweet_id.unique()"
   ]
  },
  {
   "cell_type": "code",
   "execution_count": 16,
   "metadata": {
    "collapsed": false
   },
   "outputs": [],
   "source": [
    "small_retweets = retweets[retweets[\"tweet_id\"].isin(small_tweets_ids)]"
   ]
  },
  {
   "cell_type": "code",
   "execution_count": 17,
   "metadata": {
    "collapsed": false
   },
   "outputs": [],
   "source": [
    "unique_users_small = list(small_tweets.user_id.unique()) + list(small_retweets.user_id.unique())"
   ]
  },
  {
   "cell_type": "code",
   "execution_count": 21,
   "metadata": {
    "collapsed": false
   },
   "outputs": [
    {
     "data": {
      "text/plain": [
       "32128"
      ]
     },
     "execution_count": 21,
     "metadata": {},
     "output_type": "execute_result"
    }
   ],
   "source": [
    "len(unique_users_small)"
   ]
  },
  {
   "cell_type": "code",
   "execution_count": 23,
   "metadata": {
    "collapsed": false
   },
   "outputs": [],
   "source": [
    "u_u_small_maped = []\n",
    "new_unique_users_small= []\n",
    "for i in unique_users_small:\n",
    "    try:\n",
    "        u_u_small_maped.append(map_list_reverse[i])\n",
    "        new_unique_users_small.append(i)\n",
    "    except:\n",
    "        pass"
   ]
  },
  {
   "cell_type": "code",
   "execution_count": null,
   "metadata": {
    "collapsed": true
   },
   "outputs": [],
   "source": [
    "tweets.head()"
   ]
  },
  {
   "cell_type": "code",
   "execution_count": null,
   "metadata": {
    "collapsed": true
   },
   "outputs": [],
   "source": [
    "graph = {}\n",
    "for i in u_u_small_maped:\n",
    "    graph[i] = []\n",
    "i = 1\n",
    "while i < 1787443:\n",
    "    adj = lines_2[i].split()\n",
    "    l = int(adj[1])\n",
    "    j = 2\n",
    "    while (j < (2*l + 2)):\n",
    "        graph[int(adj[j])].append(int(adj[0]))\n",
    "        j = j + 2\n",
    "    i = i + 1"
   ]
  },
  {
   "cell_type": "code",
   "execution_count": null,
   "metadata": {
    "collapsed": true
   },
   "outputs": [],
   "source": [
    "small_tweets = small_tweets[small_tweets['user_id'].isin(new_unique_users_small)]\n",
    "small_retweets = small_retweets[small_retweets['user_id'].isin(new_unique_users_small)]"
   ]
  },
  {
   "cell_type": "code",
   "execution_count": null,
   "metadata": {
    "collapsed": true
   },
   "outputs": [],
   "source": [
    "small_retweets.to_csv(\"small_retweets.csv\", sep='\\t')\n",
    "small_tweets.to_csv(\"small_tweets.csv\", sep='\\t')"
   ]
  },
  {
   "cell_type": "code",
   "execution_count": null,
   "metadata": {
    "collapsed": true
   },
   "outputs": [],
   "source": [
    "small_graph = {}\n",
    "for user in u_u_small_maped:\n",
    "    small_graph[user] = graph[user]"
   ]
  },
  {
   "cell_type": "code",
   "execution_count": null,
   "metadata": {
    "collapsed": false
   },
   "outputs": [],
   "source": [
    "small_graph_upd = {}\n",
    "set_unique_users = set(u_u_small_maped)\n",
    "for key in small_graph:\n",
    "    small_graph_upd[key] = list(set(small_graph[key]) & set_unique_users)"
   ]
  },
  {
   "cell_type": "code",
   "execution_count": null,
   "metadata": {
    "collapsed": false
   },
   "outputs": [],
   "source": [
    "maped_graph = {}\n",
    "for key in small_graph_upd:\n",
    "    maped_graph[map_list[key]] = []\n",
    "    for i in small_graph_upd[key]:\n",
    "         maped_graph[map_list[key]].append(map_list[i])"
   ]
  },
  {
   "cell_type": "code",
   "execution_count": null,
   "metadata": {
    "collapsed": true
   },
   "outputs": [],
   "source": [
    "import csv\n",
    "w = csv.writer(open(\"graph.csv\", \"w\"))\n",
    "for key, val in maped_graph.items():\n",
    "    w.writerow([key, val])"
   ]
  },
  {
   "cell_type": "code",
   "execution_count": null,
   "metadata": {
    "collapsed": true
   },
   "outputs": [],
   "source": [
    "tweets_ids = small_tweets.tweet_id"
   ]
  },
  {
   "cell_type": "code",
   "execution_count": null,
   "metadata": {
    "collapsed": false
   },
   "outputs": [
    {
     "data": {
      "text/html": [
       "<div>\n",
       "<table border=\"1\" class=\"dataframe\">\n",
       "  <thead>\n",
       "    <tr style=\"text-align: right;\">\n",
       "      <th></th>\n",
       "      <th>user_id</th>\n",
       "      <th>tweet_id</th>\n",
       "      <th>time</th>\n",
       "      <th>num</th>\n",
       "    </tr>\n",
       "  </thead>\n",
       "  <tbody>\n",
       "    <tr>\n",
       "      <th>264285</th>\n",
       "      <td>2066785327</td>\n",
       "      <td>211110626271009</td>\n",
       "      <td>2011-06-26 00:00:00</td>\n",
       "      <td>7886113</td>\n",
       "    </tr>\n",
       "    <tr>\n",
       "      <th>286583</th>\n",
       "      <td>1807689562</td>\n",
       "      <td>3465791903397536</td>\n",
       "      <td>2012-07-09 08:00:00</td>\n",
       "      <td>1839058</td>\n",
       "    </tr>\n",
       "    <tr>\n",
       "      <th>238197</th>\n",
       "      <td>1771925961</td>\n",
       "      <td>3445888074596137</td>\n",
       "      <td>2012-05-15 10:00:00</td>\n",
       "      <td>1773362</td>\n",
       "    </tr>\n",
       "    <tr>\n",
       "      <th>196310</th>\n",
       "      <td>2179589753</td>\n",
       "      <td>3418715234184011</td>\n",
       "      <td>2012-03-01 10:00:00</td>\n",
       "      <td>1472290</td>\n",
       "    </tr>\n",
       "    <tr>\n",
       "      <th>29819</th>\n",
       "      <td>1863231242</td>\n",
       "      <td>3371046516326102</td>\n",
       "      <td>2011-10-21 21:00:00</td>\n",
       "      <td>1387160</td>\n",
       "    </tr>\n",
       "    <tr>\n",
       "      <th>206047</th>\n",
       "      <td>1683498705</td>\n",
       "      <td>221110418388927170</td>\n",
       "      <td>2011-04-18 00:00:00</td>\n",
       "      <td>1362716</td>\n",
       "    </tr>\n",
       "    <tr>\n",
       "      <th>64318</th>\n",
       "      <td>1807689562</td>\n",
       "      <td>3468330510127312</td>\n",
       "      <td>2012-07-16 08:00:00</td>\n",
       "      <td>1294283</td>\n",
       "    </tr>\n",
       "    <tr>\n",
       "      <th>92074</th>\n",
       "      <td>1766389485</td>\n",
       "      <td>3344075051517329</td>\n",
       "      <td>2011-08-08 11:00:00</td>\n",
       "      <td>1053375</td>\n",
       "    </tr>\n",
       "    <tr>\n",
       "      <th>282162</th>\n",
       "      <td>1891845373</td>\n",
       "      <td>5615734448357004557</td>\n",
       "      <td>2011-06-08 14:00:00</td>\n",
       "      <td>1029423</td>\n",
       "    </tr>\n",
       "  </tbody>\n",
       "</table>\n",
       "</div>"
      ],
      "text/plain": [
       "           user_id             tweet_id                time      num\n",
       "264285  2066785327      211110626271009 2011-06-26 00:00:00  7886113\n",
       "286583  1807689562     3465791903397536 2012-07-09 08:00:00  1839058\n",
       "238197  1771925961     3445888074596137 2012-05-15 10:00:00  1773362\n",
       "196310  2179589753     3418715234184011 2012-03-01 10:00:00  1472290\n",
       "29819   1863231242     3371046516326102 2011-10-21 21:00:00  1387160\n",
       "206047  1683498705   221110418388927170 2011-04-18 00:00:00  1362716\n",
       "64318   1807689562     3468330510127312 2012-07-16 08:00:00  1294283\n",
       "92074   1766389485     3344075051517329 2011-08-08 11:00:00  1053375\n",
       "282162  1891845373  5615734448357004557 2011-06-08 14:00:00  1029423"
      ]
     },
     "execution_count": 33,
     "metadata": {},
     "output_type": "execute_result"
    }
   ],
   "source": [
    "small_tweets"
   ]
  },
  {
   "cell_type": "code",
   "execution_count": null,
   "metadata": {
    "collapsed": false
   },
   "outputs": [],
   "source": [
    "tweets_collection = {} \n",
    "for tweet in tweets_ids:\n",
    "    tweets_collection[tweet] = small_retweets[small_retweets.tweet_id == tweet]"
   ]
  },
  {
   "cell_type": "code",
   "execution_count": null,
   "metadata": {
    "collapsed": true
   },
   "outputs": [],
   "source": [
    "for key in tweets_collection:\n",
    "        filename = \"twitter_data/\"+str(key)+\".csv\"\n",
    "        tweets_collection[key].to_csv(filename, sep='\\t')"
   ]
  },
  {
   "cell_type": "code",
   "execution_count": null,
   "metadata": {
    "collapsed": true
   },
   "outputs": [],
   "source": []
  }
 ],
 "metadata": {
  "kernelspec": {
   "display_name": "Python 2",
   "language": "python",
   "name": "python2"
  },
  "language_info": {
   "codemirror_mode": {
    "name": "ipython",
    "version": 2
   },
   "file_extension": ".py",
   "mimetype": "text/x-python",
   "name": "python",
   "nbconvert_exporter": "python",
   "pygments_lexer": "ipython2",
   "version": "2.7.13"
  }
 },
 "nbformat": 4,
 "nbformat_minor": 2
}
