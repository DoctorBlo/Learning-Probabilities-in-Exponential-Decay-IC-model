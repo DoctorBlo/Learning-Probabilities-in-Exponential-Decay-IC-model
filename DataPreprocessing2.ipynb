{
 "cells": [
  {
   "cell_type": "code",
   "execution_count": 1,
   "metadata": {
    "collapsed": true
   },
   "outputs": [],
   "source": [
    "import pandas as pd"
   ]
  },
  {
   "cell_type": "code",
   "execution_count": 52,
   "metadata": {
    "collapsed": true
   },
   "outputs": [],
   "source": [
    "data_tweets = pd.read_csv(\"original_twitts.csv\", header = None)\n",
    "data_retweets = pd.read_csv(\"original_retwitts.csv\", header = None)"
   ]
  },
  {
   "cell_type": "code",
   "execution_count": 53,
   "metadata": {
    "collapsed": false
   },
   "outputs": [],
   "source": [
    "data_retweets = data_retweets.rename(columns={0:\"user_id\", 1:\"time\", 2:\"retweet_id\" ,3:\"orig_id\"})\n",
    "data_tweets = data_tweets.rename(columns={0:\"orig_id\", 1:\"user_id\", 2:\"time\" ,3:\"num\"})\n",
    "\n",
    "retweets = pd.DataFrame()\n",
    "retweets[\"user_id\"] = data_retweets.user_id\n",
    "retweets[\"tweet_id\"] = data_retweets.orig_id\n",
    "retweets[\"time\"] = data_retweets.time\n",
    "\n",
    "tweets = pd.DataFrame()\n",
    "tweets[\"user_id\"] = data_tweets.user_id\n",
    "tweets[\"tweet_id\"] = data_tweets.orig_id\n",
    "tweets[\"time\"] = data_tweets.time"
   ]
  },
  {
   "cell_type": "code",
   "execution_count": 54,
   "metadata": {
    "collapsed": true
   },
   "outputs": [],
   "source": [
    "retweets.user_id = retweets.user_id.astype(int)\n",
    "retweets.tweet_id = retweets.tweet_id.astype(int)\n",
    "tweets.user_id = tweets.user_id.astype(int)\n",
    "tweets.tweet_id = tweets.tweet_id.astype(int)"
   ]
  },
  {
   "cell_type": "code",
   "execution_count": 55,
   "metadata": {
    "collapsed": true
   },
   "outputs": [],
   "source": [
    "def just_h(x):\n",
    "    return x.split(\":\", 1)[0]\n",
    "retweets.time = retweets.time.apply(just_h)\n",
    "tweets.time = tweets.time.apply(just_h)\n",
    "retweets.time = pd.to_datetime(retweets.time, format='%Y-%m-%d-%H')\n",
    "tweets.time = pd.to_datetime(tweets.time, format='%Y-%m-%d-%H')"
   ]
  },
  {
   "cell_type": "code",
   "execution_count": 66,
   "metadata": {
    "collapsed": true
   },
   "outputs": [],
   "source": [
    "mapping = open(\"uidlist.txt\", \"r\") \n",
    "map_id = mapping.readlines()\n",
    "\n",
    "map_list = []\n",
    "for line in map_id:\n",
    "    map_list.append(int(line.split()[0]))\n",
    "\n",
    "map_list_reverse = {}\n",
    "j = 0\n",
    "for i in map_list:\n",
    "    map_list_reverse[i] = j\n",
    "    j = j + 1\n",
    "\n",
    "tweets[\"num\"] = data_tweets.num\n",
    "tweets.num = tweets.num.astype(int)\n",
    "tweets = tweets.sort_values(by = [\"num\"], ascending=False)\n",
    "small_tweets = tweets[30:33]"
   ]
  },
  {
   "cell_type": "code",
   "execution_count": 67,
   "metadata": {
    "collapsed": true
   },
   "outputs": [],
   "source": [
    "small_tweets_ids = small_tweets.tweet_id.unique()"
   ]
  },
  {
   "cell_type": "code",
   "execution_count": 68,
   "metadata": {
    "collapsed": true
   },
   "outputs": [],
   "source": [
    "small_retweets = retweets[retweets[\"tweet_id\"].isin(small_tweets_ids)]"
   ]
  },
  {
   "cell_type": "code",
   "execution_count": 69,
   "metadata": {
    "collapsed": true
   },
   "outputs": [],
   "source": [
    "unique_users_small = list(small_tweets.user_id.unique()) + list(small_retweets.user_id.unique())"
   ]
  },
  {
   "cell_type": "code",
   "execution_count": 70,
   "metadata": {
    "collapsed": false
   },
   "outputs": [
    {
     "data": {
      "text/plain": [
       "56393"
      ]
     },
     "execution_count": 70,
     "metadata": {},
     "output_type": "execute_result"
    }
   ],
   "source": [
    "len(unique_users_small)"
   ]
  },
  {
   "cell_type": "code",
   "execution_count": 71,
   "metadata": {
    "collapsed": true
   },
   "outputs": [],
   "source": [
    "u_u_small_maped = []\n",
    "for i in unique_users_small:\n",
    "        u_u_small_maped.append(map_list_reverse[i])"
   ]
  },
  {
   "cell_type": "code",
   "execution_count": 72,
   "metadata": {
    "collapsed": true
   },
   "outputs": [],
   "source": [
    "file_2 = open(\"weibo_network.txt\", \"r\") \n",
    "lines_2 = file_2.readlines()"
   ]
  },
  {
   "cell_type": "code",
   "execution_count": 73,
   "metadata": {
    "collapsed": true
   },
   "outputs": [],
   "source": [
    "inv_graph = {}\n",
    "for i in u_u_small_maped:\n",
    "    inv_graph[i] = []\n",
    "    adj = lines_2[i+1].split()\n",
    "    l = int(adj[1])\n",
    "    j = 2\n",
    "    while (j < (2*l + 2)):\n",
    "        inv_graph[i].append(int(adj[j]))\n",
    "        j = j + 2"
   ]
  },
  {
   "cell_type": "code",
   "execution_count": 74,
   "metadata": {
    "collapsed": true
   },
   "outputs": [],
   "source": [
    "set_unique_users = set(u_u_small_maped)\n",
    "for key in inv_graph:\n",
    "    inv_graph[key] = list(set(inv_graph[key]) & set_unique_users)"
   ]
  },
  {
   "cell_type": "code",
   "execution_count": 75,
   "metadata": {
    "collapsed": false
   },
   "outputs": [],
   "source": [
    "graph = {}\n",
    "for key in inv_graph:\n",
    "    for i in inv_graph[key]:\n",
    "        if i in graph:\n",
    "            graph[i].append(key)\n",
    "        else:\n",
    "            graph[i] = []\n",
    "            graph[i].append(key)"
   ]
  },
  {
   "cell_type": "code",
   "execution_count": 76,
   "metadata": {
    "collapsed": true
   },
   "outputs": [],
   "source": [
    "maped_graph = {}\n",
    "for key in graph:\n",
    "    maped_graph[map_list[key]] = []\n",
    "    for i in graph[key]:\n",
    "         maped_graph[map_list[key]].append(map_list[i])"
   ]
  },
  {
   "cell_type": "code",
   "execution_count": 84,
   "metadata": {
    "collapsed": false
   },
   "outputs": [],
   "source": [
    "import csv\n",
    "w = csv.writer(open(\"data/graph.csv\", \"w\"))\n",
    "for key, val in maped_graph.items():\n",
    "    w.writerow([key, val])"
   ]
  },
  {
   "cell_type": "code",
   "execution_count": 83,
   "metadata": {
    "collapsed": true
   },
   "outputs": [],
   "source": [
    "small_retweets.to_csv(\"data/small_retweets.csv\", sep='\\t')\n",
    "small_tweets.to_csv(\"data/small_tweets.csv\", sep='\\t')"
   ]
  },
  {
   "cell_type": "code",
   "execution_count": 79,
   "metadata": {
    "collapsed": true
   },
   "outputs": [],
   "source": [
    "tweets_ids = small_tweets.tweet_id"
   ]
  },
  {
   "cell_type": "code",
   "execution_count": 80,
   "metadata": {
    "collapsed": true
   },
   "outputs": [],
   "source": [
    "tweets_collection = {} \n",
    "for tweet in tweets_ids:\n",
    "    tweets_collection[tweet] = small_retweets[small_retweets.tweet_id == tweet]"
   ]
  },
  {
   "cell_type": "code",
   "execution_count": 82,
   "metadata": {
    "collapsed": false
   },
   "outputs": [],
   "source": [
    "for key in tweets_collection:\n",
    "        filename = \"data/twitter_data/\"+str(key)+\".csv\"\n",
    "        tweets_collection[key].to_csv(filename, sep='\\t')"
   ]
  },
  {
   "cell_type": "code",
   "execution_count": null,
   "metadata": {
    "collapsed": true
   },
   "outputs": [],
   "source": []
  }
 ],
 "metadata": {
  "kernelspec": {
   "display_name": "Python 2",
   "language": "python",
   "name": "python2"
  },
  "language_info": {
   "codemirror_mode": {
    "name": "ipython",
    "version": 2
   },
   "file_extension": ".py",
   "mimetype": "text/x-python",
   "name": "python",
   "nbconvert_exporter": "python",
   "pygments_lexer": "ipython2",
   "version": "2.7.13"
  }
 },
 "nbformat": 4,
 "nbformat_minor": 2
}
