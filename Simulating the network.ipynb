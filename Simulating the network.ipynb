{
 "cells": [
  {
   "cell_type": "code",
   "execution_count": 2,
   "metadata": {
    "collapsed": true
   },
   "outputs": [],
   "source": [
    "import pandas as pd\n",
    "file = open(\"twitter_combined.txt\", \"r\") \n",
    "lines = file.readlines()"
   ]
  },
  {
   "cell_type": "code",
   "execution_count": 3,
   "metadata": {
    "collapsed": false
   },
   "outputs": [
    {
     "data": {
      "text/plain": [
       "2420766"
      ]
     },
     "execution_count": 3,
     "metadata": {},
     "output_type": "execute_result"
    }
   ],
   "source": [
    "len(lines)"
   ]
  },
  {
   "cell_type": "code",
   "execution_count": 4,
   "metadata": {
    "collapsed": true
   },
   "outputs": [],
   "source": [
    "edges_twitter = []"
   ]
  },
  {
   "cell_type": "code",
   "execution_count": 5,
   "metadata": {
    "collapsed": false
   },
   "outputs": [],
   "source": [
    "for line in lines:\n",
    "    edges_twitter.append(line.split())"
   ]
  },
  {
   "cell_type": "code",
   "execution_count": 6,
   "metadata": {
    "collapsed": false
   },
   "outputs": [],
   "source": [
    "Graph = pd.DataFrame(edges_twitter)"
   ]
  },
  {
   "cell_type": "code",
   "execution_count": 67,
   "metadata": {
    "collapsed": false
   },
   "outputs": [
    {
     "data": {
      "text/html": [
       "<div>\n",
       "<table border=\"1\" class=\"dataframe\">\n",
       "  <thead>\n",
       "    <tr style=\"text-align: right;\">\n",
       "      <th></th>\n",
       "      <th>follower</th>\n",
       "      <th>followed</th>\n",
       "    </tr>\n",
       "  </thead>\n",
       "  <tbody>\n",
       "    <tr>\n",
       "      <th>530203</th>\n",
       "      <td>5252591</td>\n",
       "      <td>12</td>\n",
       "    </tr>\n",
       "    <tr>\n",
       "      <th>420360</th>\n",
       "      <td>11166472</td>\n",
       "      <td>12</td>\n",
       "    </tr>\n",
       "    <tr>\n",
       "      <th>2227873</th>\n",
       "      <td>783214</td>\n",
       "      <td>12</td>\n",
       "    </tr>\n",
       "    <tr>\n",
       "      <th>540628</th>\n",
       "      <td>6193182</td>\n",
       "      <td>12</td>\n",
       "    </tr>\n",
       "    <tr>\n",
       "      <th>1211888</th>\n",
       "      <td>783214</td>\n",
       "      <td>12</td>\n",
       "    </tr>\n",
       "  </tbody>\n",
       "</table>\n",
       "</div>"
      ],
      "text/plain": [
       "         follower  followed\n",
       "530203    5252591        12\n",
       "420360   11166472        12\n",
       "2227873    783214        12\n",
       "540628    6193182        12\n",
       "1211888    783214        12"
      ]
     },
     "execution_count": 67,
     "metadata": {},
     "output_type": "execute_result"
    }
   ],
   "source": [
    "Graph.head()"
   ]
  },
  {
   "cell_type": "code",
   "execution_count": 8,
   "metadata": {
    "collapsed": false
   },
   "outputs": [],
   "source": [
    "Graph = Graph.rename(columns={0:\"follower\", 1:\"followed\"})"
   ]
  },
  {
   "cell_type": "code",
   "execution_count": 68,
   "metadata": {
    "collapsed": false
   },
   "outputs": [
    {
     "data": {
      "text/plain": [
       "2420766"
      ]
     },
     "execution_count": 68,
     "metadata": {},
     "output_type": "execute_result"
    }
   ],
   "source": [
    "len(Graph)"
   ]
  },
  {
   "cell_type": "code",
   "execution_count": 10,
   "metadata": {
    "collapsed": false
   },
   "outputs": [],
   "source": [
    "unique_users_followed = Graph.followed.unique()"
   ]
  },
  {
   "cell_type": "code",
   "execution_count": 11,
   "metadata": {
    "collapsed": false
   },
   "outputs": [
    {
     "data": {
      "text/plain": [
       "81305"
      ]
     },
     "execution_count": 11,
     "metadata": {},
     "output_type": "execute_result"
    }
   ],
   "source": [
    "len(unique_users_followed)"
   ]
  },
  {
   "cell_type": "code",
   "execution_count": 63,
   "metadata": {
    "collapsed": false
   },
   "outputs": [],
   "source": [
    "Graph.followed = Graph.followed.astype(int)\n",
    "Graph.follower = Graph.follower.astype(int)"
   ]
  },
  {
   "cell_type": "code",
   "execution_count": 66,
   "metadata": {
    "collapsed": false
   },
   "outputs": [],
   "source": [
    "Graph = Graph.sort_values(by = \"followed\")"
   ]
  },
  {
   "cell_type": "code",
   "execution_count": 62,
   "metadata": {
    "collapsed": false
   },
   "outputs": [],
   "source": [
    "import random"
   ]
  },
  {
   "cell_type": "code",
   "execution_count": 71,
   "metadata": {
    "collapsed": false
   },
   "outputs": [],
   "source": [
    "Graph['prob'] = pd.Series([random.random() for x in xrange(len(Graph))], index=Graph.index)"
   ]
  },
  {
   "cell_type": "code",
   "execution_count": 73,
   "metadata": {
    "collapsed": false
   },
   "outputs": [
    {
     "data": {
      "text/html": [
       "<div>\n",
       "<table border=\"1\" class=\"dataframe\">\n",
       "  <thead>\n",
       "    <tr style=\"text-align: right;\">\n",
       "      <th></th>\n",
       "      <th>follower</th>\n",
       "      <th>followed</th>\n",
       "      <th>prob</th>\n",
       "    </tr>\n",
       "  </thead>\n",
       "  <tbody>\n",
       "    <tr>\n",
       "      <th>530203</th>\n",
       "      <td>5252591</td>\n",
       "      <td>12</td>\n",
       "      <td>0.362038</td>\n",
       "    </tr>\n",
       "    <tr>\n",
       "      <th>420360</th>\n",
       "      <td>11166472</td>\n",
       "      <td>12</td>\n",
       "      <td>0.990917</td>\n",
       "    </tr>\n",
       "    <tr>\n",
       "      <th>2227873</th>\n",
       "      <td>783214</td>\n",
       "      <td>12</td>\n",
       "      <td>0.933560</td>\n",
       "    </tr>\n",
       "    <tr>\n",
       "      <th>540628</th>\n",
       "      <td>6193182</td>\n",
       "      <td>12</td>\n",
       "      <td>0.188815</td>\n",
       "    </tr>\n",
       "    <tr>\n",
       "      <th>1211888</th>\n",
       "      <td>783214</td>\n",
       "      <td>12</td>\n",
       "      <td>0.222482</td>\n",
       "    </tr>\n",
       "    <tr>\n",
       "      <th>1757450</th>\n",
       "      <td>783214</td>\n",
       "      <td>12</td>\n",
       "      <td>0.190781</td>\n",
       "    </tr>\n",
       "    <tr>\n",
       "      <th>422112</th>\n",
       "      <td>422</td>\n",
       "      <td>12</td>\n",
       "      <td>0.570899</td>\n",
       "    </tr>\n",
       "    <tr>\n",
       "      <th>1256667</th>\n",
       "      <td>17219108</td>\n",
       "      <td>12</td>\n",
       "      <td>0.325044</td>\n",
       "    </tr>\n",
       "    <tr>\n",
       "      <th>333361</th>\n",
       "      <td>397673792</td>\n",
       "      <td>12</td>\n",
       "      <td>0.326620</td>\n",
       "    </tr>\n",
       "    <tr>\n",
       "      <th>1207337</th>\n",
       "      <td>14589771</td>\n",
       "      <td>12</td>\n",
       "      <td>0.749522</td>\n",
       "    </tr>\n",
       "    <tr>\n",
       "      <th>1207861</th>\n",
       "      <td>26123649</td>\n",
       "      <td>12</td>\n",
       "      <td>0.814352</td>\n",
       "    </tr>\n",
       "    <tr>\n",
       "      <th>531358</th>\n",
       "      <td>783214</td>\n",
       "      <td>12</td>\n",
       "      <td>0.917090</td>\n",
       "    </tr>\n",
       "    <tr>\n",
       "      <th>1141177</th>\n",
       "      <td>783214</td>\n",
       "      <td>12</td>\n",
       "      <td>0.078803</td>\n",
       "    </tr>\n",
       "    <tr>\n",
       "      <th>531300</th>\n",
       "      <td>858051</td>\n",
       "      <td>12</td>\n",
       "      <td>0.355844</td>\n",
       "    </tr>\n",
       "    <tr>\n",
       "      <th>333662</th>\n",
       "      <td>783214</td>\n",
       "      <td>12</td>\n",
       "      <td>0.374609</td>\n",
       "    </tr>\n",
       "    <tr>\n",
       "      <th>784445</th>\n",
       "      <td>783214</td>\n",
       "      <td>12</td>\n",
       "      <td>0.237426</td>\n",
       "    </tr>\n",
       "    <tr>\n",
       "      <th>1211852</th>\n",
       "      <td>12249</td>\n",
       "      <td>12</td>\n",
       "      <td>0.983188</td>\n",
       "    </tr>\n",
       "    <tr>\n",
       "      <th>417983</th>\n",
       "      <td>858051</td>\n",
       "      <td>12</td>\n",
       "      <td>0.869361</td>\n",
       "    </tr>\n",
       "    <tr>\n",
       "      <th>364782</th>\n",
       "      <td>858051</td>\n",
       "      <td>12</td>\n",
       "      <td>0.641429</td>\n",
       "    </tr>\n",
       "    <tr>\n",
       "      <th>872084</th>\n",
       "      <td>3283901</td>\n",
       "      <td>12</td>\n",
       "      <td>0.983513</td>\n",
       "    </tr>\n",
       "    <tr>\n",
       "      <th>871341</th>\n",
       "      <td>14426771</td>\n",
       "      <td>12</td>\n",
       "      <td>0.400042</td>\n",
       "    </tr>\n",
       "    <tr>\n",
       "      <th>1211409</th>\n",
       "      <td>357750891</td>\n",
       "      <td>12</td>\n",
       "      <td>0.540338</td>\n",
       "    </tr>\n",
       "    <tr>\n",
       "      <th>542931</th>\n",
       "      <td>41553</td>\n",
       "      <td>12</td>\n",
       "      <td>0.340456</td>\n",
       "    </tr>\n",
       "    <tr>\n",
       "      <th>1757549</th>\n",
       "      <td>13</td>\n",
       "      <td>12</td>\n",
       "      <td>0.314939</td>\n",
       "    </tr>\n",
       "    <tr>\n",
       "      <th>421210</th>\n",
       "      <td>856101</td>\n",
       "      <td>12</td>\n",
       "      <td>0.062914</td>\n",
       "    </tr>\n",
       "    <tr>\n",
       "      <th>1551901</th>\n",
       "      <td>13</td>\n",
       "      <td>12</td>\n",
       "      <td>0.571686</td>\n",
       "    </tr>\n",
       "    <tr>\n",
       "      <th>364929</th>\n",
       "      <td>13</td>\n",
       "      <td>12</td>\n",
       "      <td>0.002403</td>\n",
       "    </tr>\n",
       "    <tr>\n",
       "      <th>540511</th>\n",
       "      <td>13</td>\n",
       "      <td>12</td>\n",
       "      <td>0.893030</td>\n",
       "    </tr>\n",
       "    <tr>\n",
       "      <th>983104</th>\n",
       "      <td>14212837</td>\n",
       "      <td>12</td>\n",
       "      <td>0.586559</td>\n",
       "    </tr>\n",
       "    <tr>\n",
       "      <th>1255136</th>\n",
       "      <td>14208982</td>\n",
       "      <td>12</td>\n",
       "      <td>0.191654</td>\n",
       "    </tr>\n",
       "    <tr>\n",
       "      <th>...</th>\n",
       "      <td>...</td>\n",
       "      <td>...</td>\n",
       "      <td>...</td>\n",
       "    </tr>\n",
       "    <tr>\n",
       "      <th>2384545</th>\n",
       "      <td>368018677</td>\n",
       "      <td>567272538</td>\n",
       "      <td>0.390608</td>\n",
       "    </tr>\n",
       "    <tr>\n",
       "      <th>2304186</th>\n",
       "      <td>14256927</td>\n",
       "      <td>567339463</td>\n",
       "      <td>0.473455</td>\n",
       "    </tr>\n",
       "    <tr>\n",
       "      <th>2348305</th>\n",
       "      <td>202195505</td>\n",
       "      <td>567657021</td>\n",
       "      <td>0.919337</td>\n",
       "    </tr>\n",
       "    <tr>\n",
       "      <th>2321808</th>\n",
       "      <td>16285517</td>\n",
       "      <td>567663575</td>\n",
       "      <td>0.114328</td>\n",
       "    </tr>\n",
       "    <tr>\n",
       "      <th>573970</th>\n",
       "      <td>14996867</td>\n",
       "      <td>567663575</td>\n",
       "      <td>0.467901</td>\n",
       "    </tr>\n",
       "    <tr>\n",
       "      <th>2366096</th>\n",
       "      <td>2576401</td>\n",
       "      <td>567685433</td>\n",
       "      <td>0.505446</td>\n",
       "    </tr>\n",
       "    <tr>\n",
       "      <th>1711229</th>\n",
       "      <td>45200705</td>\n",
       "      <td>567859095</td>\n",
       "      <td>0.191464</td>\n",
       "    </tr>\n",
       "    <tr>\n",
       "      <th>2384496</th>\n",
       "      <td>368018677</td>\n",
       "      <td>567859095</td>\n",
       "      <td>0.787687</td>\n",
       "    </tr>\n",
       "    <tr>\n",
       "      <th>1711151</th>\n",
       "      <td>57715335</td>\n",
       "      <td>567859095</td>\n",
       "      <td>0.933729</td>\n",
       "    </tr>\n",
       "    <tr>\n",
       "      <th>2365812</th>\n",
       "      <td>256497288</td>\n",
       "      <td>567915211</td>\n",
       "      <td>0.998751</td>\n",
       "    </tr>\n",
       "    <tr>\n",
       "      <th>2137001</th>\n",
       "      <td>49201685</td>\n",
       "      <td>568552194</td>\n",
       "      <td>0.653913</td>\n",
       "    </tr>\n",
       "    <tr>\n",
       "      <th>2412177</th>\n",
       "      <td>80317145</td>\n",
       "      <td>568552194</td>\n",
       "      <td>0.994837</td>\n",
       "    </tr>\n",
       "    <tr>\n",
       "      <th>2327408</th>\n",
       "      <td>170167167</td>\n",
       "      <td>568627575</td>\n",
       "      <td>0.325496</td>\n",
       "    </tr>\n",
       "    <tr>\n",
       "      <th>2362930</th>\n",
       "      <td>248224845</td>\n",
       "      <td>568655523</td>\n",
       "      <td>0.198948</td>\n",
       "    </tr>\n",
       "    <tr>\n",
       "      <th>1918555</th>\n",
       "      <td>234064468</td>\n",
       "      <td>568699879</td>\n",
       "      <td>0.747572</td>\n",
       "    </tr>\n",
       "    <tr>\n",
       "      <th>1919605</th>\n",
       "      <td>27218831</td>\n",
       "      <td>568699879</td>\n",
       "      <td>0.174612</td>\n",
       "    </tr>\n",
       "    <tr>\n",
       "      <th>2398821</th>\n",
       "      <td>57828817</td>\n",
       "      <td>568699879</td>\n",
       "      <td>0.833485</td>\n",
       "    </tr>\n",
       "    <tr>\n",
       "      <th>1916083</th>\n",
       "      <td>114738427</td>\n",
       "      <td>568699879</td>\n",
       "      <td>0.055469</td>\n",
       "    </tr>\n",
       "    <tr>\n",
       "      <th>1916305</th>\n",
       "      <td>100067941</td>\n",
       "      <td>568699879</td>\n",
       "      <td>0.139952</td>\n",
       "    </tr>\n",
       "    <tr>\n",
       "      <th>1915554</th>\n",
       "      <td>163890442</td>\n",
       "      <td>568699879</td>\n",
       "      <td>0.214429</td>\n",
       "    </tr>\n",
       "    <tr>\n",
       "      <th>1919693</th>\n",
       "      <td>278628331</td>\n",
       "      <td>568699879</td>\n",
       "      <td>0.689614</td>\n",
       "    </tr>\n",
       "    <tr>\n",
       "      <th>1916249</th>\n",
       "      <td>88345486</td>\n",
       "      <td>568699879</td>\n",
       "      <td>0.248616</td>\n",
       "    </tr>\n",
       "    <tr>\n",
       "      <th>1917913</th>\n",
       "      <td>175229187</td>\n",
       "      <td>568699879</td>\n",
       "      <td>0.936407</td>\n",
       "    </tr>\n",
       "    <tr>\n",
       "      <th>1918856</th>\n",
       "      <td>35359596</td>\n",
       "      <td>568699879</td>\n",
       "      <td>0.104087</td>\n",
       "    </tr>\n",
       "    <tr>\n",
       "      <th>1915988</th>\n",
       "      <td>30299100</td>\n",
       "      <td>568699879</td>\n",
       "      <td>0.367005</td>\n",
       "    </tr>\n",
       "    <tr>\n",
       "      <th>2389282</th>\n",
       "      <td>40818894</td>\n",
       "      <td>568753458</td>\n",
       "      <td>0.647367</td>\n",
       "    </tr>\n",
       "    <tr>\n",
       "      <th>2325286</th>\n",
       "      <td>16734718</td>\n",
       "      <td>568770231</td>\n",
       "      <td>0.603379</td>\n",
       "    </tr>\n",
       "    <tr>\n",
       "      <th>624887</th>\n",
       "      <td>276575319</td>\n",
       "      <td>568770231</td>\n",
       "      <td>0.280979</td>\n",
       "    </tr>\n",
       "    <tr>\n",
       "      <th>625851</th>\n",
       "      <td>23822446</td>\n",
       "      <td>568770231</td>\n",
       "      <td>0.674683</td>\n",
       "    </tr>\n",
       "    <tr>\n",
       "      <th>625765</th>\n",
       "      <td>93905958</td>\n",
       "      <td>568770231</td>\n",
       "      <td>0.243040</td>\n",
       "    </tr>\n",
       "  </tbody>\n",
       "</table>\n",
       "<p>2420766 rows × 3 columns</p>\n",
       "</div>"
      ],
      "text/plain": [
       "          follower   followed      prob\n",
       "530203     5252591         12  0.362038\n",
       "420360    11166472         12  0.990917\n",
       "2227873     783214         12  0.933560\n",
       "540628     6193182         12  0.188815\n",
       "1211888     783214         12  0.222482\n",
       "1757450     783214         12  0.190781\n",
       "422112         422         12  0.570899\n",
       "1256667   17219108         12  0.325044\n",
       "333361   397673792         12  0.326620\n",
       "1207337   14589771         12  0.749522\n",
       "1207861   26123649         12  0.814352\n",
       "531358      783214         12  0.917090\n",
       "1141177     783214         12  0.078803\n",
       "531300      858051         12  0.355844\n",
       "333662      783214         12  0.374609\n",
       "784445      783214         12  0.237426\n",
       "1211852      12249         12  0.983188\n",
       "417983      858051         12  0.869361\n",
       "364782      858051         12  0.641429\n",
       "872084     3283901         12  0.983513\n",
       "871341    14426771         12  0.400042\n",
       "1211409  357750891         12  0.540338\n",
       "542931       41553         12  0.340456\n",
       "1757549         13         12  0.314939\n",
       "421210      856101         12  0.062914\n",
       "1551901         13         12  0.571686\n",
       "364929          13         12  0.002403\n",
       "540511          13         12  0.893030\n",
       "983104    14212837         12  0.586559\n",
       "1255136   14208982         12  0.191654\n",
       "...            ...        ...       ...\n",
       "2384545  368018677  567272538  0.390608\n",
       "2304186   14256927  567339463  0.473455\n",
       "2348305  202195505  567657021  0.919337\n",
       "2321808   16285517  567663575  0.114328\n",
       "573970    14996867  567663575  0.467901\n",
       "2366096    2576401  567685433  0.505446\n",
       "1711229   45200705  567859095  0.191464\n",
       "2384496  368018677  567859095  0.787687\n",
       "1711151   57715335  567859095  0.933729\n",
       "2365812  256497288  567915211  0.998751\n",
       "2137001   49201685  568552194  0.653913\n",
       "2412177   80317145  568552194  0.994837\n",
       "2327408  170167167  568627575  0.325496\n",
       "2362930  248224845  568655523  0.198948\n",
       "1918555  234064468  568699879  0.747572\n",
       "1919605   27218831  568699879  0.174612\n",
       "2398821   57828817  568699879  0.833485\n",
       "1916083  114738427  568699879  0.055469\n",
       "1916305  100067941  568699879  0.139952\n",
       "1915554  163890442  568699879  0.214429\n",
       "1919693  278628331  568699879  0.689614\n",
       "1916249   88345486  568699879  0.248616\n",
       "1917913  175229187  568699879  0.936407\n",
       "1918856   35359596  568699879  0.104087\n",
       "1915988   30299100  568699879  0.367005\n",
       "2389282   40818894  568753458  0.647367\n",
       "2325286   16734718  568770231  0.603379\n",
       "624887   276575319  568770231  0.280979\n",
       "625851    23822446  568770231  0.674683\n",
       "625765    93905958  568770231  0.243040\n",
       "\n",
       "[2420766 rows x 3 columns]"
      ]
     },
     "execution_count": 73,
     "metadata": {},
     "output_type": "execute_result"
    }
   ],
   "source": [
    "Graph"
   ]
  },
  {
   "cell_type": "code",
   "execution_count": null,
   "metadata": {
    "collapsed": true
   },
   "outputs": [],
   "source": []
  }
 ],
 "metadata": {
  "kernelspec": {
   "display_name": "Python 2",
   "language": "python",
   "name": "python2"
  },
  "language_info": {
   "codemirror_mode": {
    "name": "ipython",
    "version": 2
   },
   "file_extension": ".py",
   "mimetype": "text/x-python",
   "name": "python",
   "nbconvert_exporter": "python",
   "pygments_lexer": "ipython2",
   "version": "2.7.13"
  }
 },
 "nbformat": 4,
 "nbformat_minor": 2
}
